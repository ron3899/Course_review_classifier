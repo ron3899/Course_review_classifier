{
 "cells": [
  {
   "cell_type": "code",
   "execution_count": 1,
   "id": "1468ba7b",
   "metadata": {},
   "outputs": [],
   "source": [
    "##########################################################    Bert    ##########################################################"
   ]
  },
  {
   "cell_type": "code",
   "execution_count": 2,
   "id": "3d97a1cd",
   "metadata": {},
   "outputs": [
    {
     "name": "stderr",
     "output_type": "stream",
     "text": [
      "C:\\Users\\Gleb\\anaconda3\\envs\\py311\\Lib\\site-packages\\tqdm\\auto.py:21: TqdmWarning: IProgress not found. Please update jupyter and ipywidgets. See https://ipywidgets.readthedocs.io/en/stable/user_install.html\n",
      "  from .autonotebook import tqdm as notebook_tqdm\n"
     ]
    }
   ],
   "source": [
    "# חלק 1: ייבוא ספריות\n",
    "import sys\n",
    "import random\n",
    "from collections import Counter\n",
    "\n",
    "import pandas as pd\n",
    "import numpy as np\n",
    "\n",
    "import torch\n",
    "import accelerate\n",
    "import huggingface_hub\n",
    "\n",
    "from pathlib import Path\n",
    "from torch.utils.data import DataLoader, Dataset\n",
    "import torch.nn as nn\n",
    "\n",
    "from transformers import AutoTokenizer, AutoModel, get_linear_schedule_with_warmup\n",
    "from tqdm.auto import tqdm\n",
    "from sklearn.model_selection import train_test_split"
   ]
  },
  {
   "cell_type": "code",
   "execution_count": 3,
   "id": "50fbcc8f",
   "metadata": {},
   "outputs": [
    {
     "name": "stdout",
     "output_type": "stream",
     "text": [
      "Python version: 3.11.11\n",
      "PyTorch version: 2.5.1\n",
      "CUDA version: 11.8\n",
      "Device name: NVIDIA GeForce RTX 3060 Ti\n",
      "accelerate: 1.7.0\n",
      "hf_hub: 0.31.2\n"
     ]
    }
   ],
   "source": [
    "# חלק 2: בדיקת גרסאות וסביבת הפיתוח\n",
    "print(\"Python version:\", sys.version.split()[0])\n",
    "print(\"PyTorch version:\", torch.__version__)\n",
    "print(\"CUDA version:\", torch.version.cuda)\n",
    "if torch.cuda.is_available():\n",
    "    print(\"Device name:\", torch.cuda.get_device_name(0))\n",
    "print(\"accelerate:\", accelerate.__version__)\n",
    "print(\"hf_hub:\", huggingface_hub.__version__)"
   ]
  },
  {
   "cell_type": "code",
   "execution_count": 4,
   "id": "e8d3c086",
   "metadata": {},
   "outputs": [
    {
     "name": "stdout",
     "output_type": "stream",
     "text": [
      "Using device: cuda (NVIDIA GeForce RTX 3060 Ti)\n"
     ]
    }
   ],
   "source": [
    "# חלק 3: הגדרת מכשיר (GPU/CPU)\n",
    "device = torch.device(\"cuda\" if torch.cuda.is_available() else \"cpu\")\n",
    "if device.type != \"cuda\":\n",
    "    raise EnvironmentError(\"CUDA device not available; aborting to avoid CPU run.\")\n",
    "print(f\"Using device: {device} ({torch.cuda.get_device_name(0)})\")"
   ]
  },
  {
   "cell_type": "code",
   "execution_count": 5,
   "id": "afa80776",
   "metadata": {},
   "outputs": [],
   "source": [
    "# חלק 4: פונקציות עזר\n",
    "def print_stats(texts, labels, label_cols, name):\n",
    "    \"\"\"\n",
    "    מדפיס:\n",
    "      • כמה קומבינציות ייחודיות מתוך 27 קיימות\n",
    "      • עבור כל לייבל: כמה דוגמאות עם הערכים 0,1,2,3\n",
    "    \"\"\"\n",
    "    combos = [tuple(l) for l in labels]\n",
    "    unique_combos = set(combos)\n",
    "    print(f\"\\n=== {name} ===\")\n",
    "    print(f\"Unique label combinations: {len(unique_combos)} / 27\")\n",
    "    for i, lab in enumerate(label_cols):\n",
    "        vals = [l[i] for l in labels]\n",
    "        counts = Counter(vals)\n",
    "        print(f\"Label '{lab}': \" + \", \".join(f\"{v}: {counts.get(v,0)}\" for v in [0,1,2,3]))\n",
    "\n",
    "\n",
    "def load_data(path, encoding='utf-8'):\n",
    "    \"\"\"\n",
    "    טוען CSV ומחזיר:\n",
    "      • texts: רשימת מיתרי הטקסט\n",
    "      • labels: רשימת רשימות של ארבעת הלייבלים\n",
    "      • df: ה-DataFrame המלא\n",
    "    \"\"\"\n",
    "    try:\n",
    "        df = pd.read_csv(path, encoding=encoding)\n",
    "    except UnicodeDecodeError:\n",
    "        df = pd.read_csv(path, encoding='latin1')\n",
    "    cols = df.columns.tolist()\n",
    "    if len(cols) < 5:\n",
    "        raise ValueError(f\"Expected >=5 columns but found {len(cols)}\")\n",
    "    text_col = cols[0]\n",
    "    label_cols = cols[-4:]\n",
    "    print(f\"Using text column: '{text_col}', label columns: {label_cols}\")\n",
    "    df.dropna(subset=[text_col], inplace=True)\n",
    "    texts = df[text_col].astype(str).tolist()\n",
    "    labels = df[label_cols].astype(int).values.tolist()\n",
    "    return texts, labels, df\n",
    "\n",
    "\n",
    "def split_with_coverage(X, y, test_size, initial_rs):\n",
    "    \"\"\"\n",
    "    מחלק את X ו־y ל־train/val באופן אקראי (עם שינוי seed עד\n",
    "    שמתקבל כיסוי מלא של הערכים 0–3 בכל לייבל בשני הסטים).\n",
    "    \"\"\"\n",
    "    rs = initial_rs\n",
    "    while True:\n",
    "        X_tr, X_v, y_tr, y_v = train_test_split(\n",
    "            X, y, test_size=test_size, random_state=rs, shuffle=True\n",
    "        )\n",
    "        ok = True\n",
    "        for i in range(y.shape[1]):\n",
    "            if set(y_tr[:,i]) != {0,1,2,3} or set(y_v[:,i]) != {0,1,2,3}:\n",
    "                ok = False\n",
    "                break\n",
    "        if ok:\n",
    "            return X_tr, X_v, y_tr, y_v\n",
    "        rs += 1"
   ]
  },
  {
   "cell_type": "code",
   "execution_count": 6,
   "id": "8bff3105",
   "metadata": {},
   "outputs": [],
   "source": [
    "# חלק 5: הגדרת Tokenizer ו־Dataset\n",
    "tokenizer = None\n",
    "def set_tokenizer(tok):\n",
    "    global tokenizer\n",
    "    tokenizer = tok\n",
    "\n",
    "class CourseDataset(Dataset):\n",
    "    def __init__(self, texts, labels, max_length=128):\n",
    "        self.texts = texts\n",
    "        self.labels = labels\n",
    "        self.max_length = max_length\n",
    "\n",
    "    def __len__(self):\n",
    "        return len(self.texts)\n",
    "\n",
    "    def __getitem__(self, idx):\n",
    "        enc = tokenizer(\n",
    "            self.texts[idx],\n",
    "            padding='max_length',\n",
    "            truncation=True,\n",
    "            max_length=self.max_length,\n",
    "            return_tensors='pt'\n",
    "        )\n",
    "        item = {k: v.squeeze(0) for k, v in enc.items()}\n",
    "        item['labels'] = torch.tensor(self.labels[idx], dtype=torch.long)\n",
    "        return item"
   ]
  },
  {
   "cell_type": "code",
   "execution_count": 7,
   "id": "f861ccee",
   "metadata": {},
   "outputs": [],
   "source": [
    "# חלק 6: הגדרת המודל (BERT עם 4 ראשים)\n",
    "class CourseSentimentModel(nn.Module):\n",
    "    def __init__(self, model_name, num_labels_per_task):\n",
    "        super().__init__()\n",
    "        self.bert = AutoModel.from_pretrained(model_name)\n",
    "        hidden = self.bert.config.hidden_size\n",
    "        self.classifiers = nn.ModuleList([\n",
    "            nn.Linear(hidden, num_labels_per_task) for _ in range(4)\n",
    "        ])\n",
    "\n",
    "    def forward(self, input_ids, attention_mask):\n",
    "        outputs = self.bert(input_ids=input_ids, attention_mask=attention_mask)\n",
    "        cls = outputs.last_hidden_state[:, 0, :]\n",
    "        return [clf(cls) for clf in self.classifiers]"
   ]
  },
  {
   "cell_type": "code",
   "execution_count": 8,
   "id": "02f26e19",
   "metadata": {},
   "outputs": [],
   "source": [
    "# חלק 7: פונקציות אימון והערכה\n",
    "def train_epoch(model, loader, optimizer, scheduler, loss_fn):\n",
    "    model.train()\n",
    "    for batch in loader:\n",
    "        ids  = batch['input_ids'].to(device, non_blocking=True)\n",
    "        mask = batch['attention_mask'].to(device, non_blocking=True)\n",
    "        labs = batch['labels'].to(device, non_blocking=True)\n",
    "        optimizer.zero_grad()\n",
    "        logits = model(ids, mask)\n",
    "        loss = sum(loss_fn(logit, labs[:, i]) for i, logit in enumerate(logits))\n",
    "        loss.backward()\n",
    "        optimizer.step()\n",
    "        scheduler.step()\n",
    "\n",
    "def eval_model(model, loader):\n",
    "    model.eval()\n",
    "    correct_per_label = [0]*4\n",
    "    correct_exact = 0\n",
    "    total = 0\n",
    "    with torch.no_grad():\n",
    "        for batch in loader:\n",
    "            ids   = batch['input_ids'].to(device)\n",
    "            mask  = batch['attention_mask'].to(device)\n",
    "            labs  = batch['labels'].to(device)\n",
    "            preds = torch.stack([torch.argmax(l,dim=1) for l in model(ids,mask)], dim=1)\n",
    "            matches = (preds == labs)\n",
    "            for i in range(4):\n",
    "                correct_per_label[i] += matches[:,i].sum().item()\n",
    "            correct_exact += matches.all(dim=1).sum().item()\n",
    "            total += labs.size(0)\n",
    "    return [c/total for c in correct_per_label], correct_exact/total"
   ]
  },
  {
   "cell_type": "code",
   "execution_count": 9,
   "id": "ac91fdfc",
   "metadata": {},
   "outputs": [],
   "source": [
    "# חלק 8: חיפוש היפר-פרמטרים\n",
    "def hyperparameter_search(train_ds, val_ds, model_name, hyperparams, num_labels_per_task):\n",
    "    best = {'exact_match': 0.0}\n",
    "    best_model = None\n",
    "    runs = 0\n",
    "    pin_mem = True\n",
    "    num_workers = 0\n",
    "    total_runs = (\n",
    "        len(hyperparams['learning_rates']) *\n",
    "        len(hyperparams['batch_sizes']) *\n",
    "        len(hyperparams['weight_decays']) *\n",
    "        len(hyperparams['epochs'])\n",
    "    )\n",
    "    for lr in hyperparams['learning_rates']:\n",
    "        for bs in hyperparams['batch_sizes']:\n",
    "            for wd in hyperparams['weight_decays']:\n",
    "                for epochs in hyperparams['epochs']:\n",
    "                    runs += 1\n",
    "                    print(f\"\\nRun {runs}/{total_runs}: lr={lr}, bs={bs}, wd={wd}, epochs={epochs}\")\n",
    "                    train_loader = DataLoader(train_ds, batch_size=bs, shuffle=True,\n",
    "                                              pin_memory=pin_mem, num_workers=num_workers)\n",
    "                    val_loader = DataLoader(val_ds, batch_size=bs, shuffle=False,\n",
    "                                             pin_memory=pin_mem, num_workers=num_workers)\n",
    "                    model = CourseSentimentModel(model_name, num_labels_per_task).to(device)\n",
    "                    optimizer = torch.optim.AdamW(model.parameters(), lr=lr, weight_decay=wd)\n",
    "                    steps = epochs * len(train_loader)\n",
    "                    scheduler = get_linear_schedule_with_warmup(optimizer, 0, steps)\n",
    "                    loss_fn = nn.CrossEntropyLoss()\n",
    "\n",
    "                    for epoch in range(1, epochs+1):\n",
    "                        desc = f\"Run {runs}/{total_runs} · Epoch {epoch}/{epochs}\"\n",
    "                        pbar = tqdm(train_loader, total=len(train_loader),\n",
    "                                    desc=desc, unit=\"batch\", dynamic_ncols=True)\n",
    "                        for batch in pbar:\n",
    "                            ids  = batch['input_ids'].to(device, non_blocking=True)\n",
    "                            mask = batch['attention_mask'].to(device, non_blocking=True)\n",
    "                            labs = batch['labels'].to(device, non_blocking=True)\n",
    "                            optimizer.zero_grad()\n",
    "                            logits = model(ids, mask)\n",
    "                            loss = sum(loss_fn(logit, labs[:, i]) for i, logit in enumerate(logits))\n",
    "                            loss.backward()\n",
    "                            optimizer.step()\n",
    "                            scheduler.step()\n",
    "                            pbar.set_postfix(loss=f\"{loss.item():.4f}\")\n",
    "                        _, acc_ex = eval_model(model, val_loader)\n",
    "                        pbar.write(f\"Exact-Match after Epoch {epoch}: {acc_ex:.4f}\")\n",
    "                        pbar.close()\n",
    "\n",
    "                    if acc_ex > best['exact_match']:\n",
    "                        best.update({\n",
    "                            'exact_match': acc_ex,\n",
    "                            'params': {\n",
    "                                'learning_rate': lr,\n",
    "                                'batch_size':    bs,\n",
    "                                'weight_decay':  wd,\n",
    "                                'epochs':        epochs\n",
    "                            }\n",
    "                        })\n",
    "                        best_model = model\n",
    "\n",
    "    return best, runs, best_model"
   ]
  },
  {
   "cell_type": "code",
   "execution_count": 10,
   "id": "33e34b8c",
   "metadata": {},
   "outputs": [],
   "source": [
    "# חלק 9: הזרימה הראשית (main)\n",
    "def main():\n",
    "    global BEST_BATCH_SIZE\n",
    "\n",
    "    # הגדרות seed לייציבות\n",
    "    random.seed(42)\n",
    "    np.random.seed(42)\n",
    "    torch.manual_seed(42)\n",
    "\n",
    "    # 9.1: טעינת הנתונים\n",
    "    DATA_PATH = r\"C:\\Users\\Gleb\\Desktop\\N.L.P\\CHATGPT_DATASET.csv\"\n",
    "    texts, labels_list, df = load_data(DATA_PATH)\n",
    "    N = len(texts)\n",
    "    print(f\"Total examples in dataset: {N}\")\n",
    "\n",
    "    # 9.2: אימות עמודות הלייבלים\n",
    "    labels_cols = ['difficulty', 'interest', 'usefulness', 'teaching_quality']\n",
    "    assert all(col in df.columns for col in labels_cols)\n",
    "\n",
    "    labels_all = df[labels_cols].astype(int).values  # (N,4)\n",
    "\n",
    "    # 9.3: בניית Evaluation/Test set\n",
    "    RND = 42\n",
    "    rng = np.random.RandomState(RND)\n",
    "    test_idx = set()\n",
    "    for i, col in enumerate(labels_cols):\n",
    "        for v in [0,1,2,3]:\n",
    "            idxs = np.where(labels_all[:,i]==v)[0]\n",
    "            if len(idxs)==0: continue\n",
    "            test_idx.add(int(rng.choice(idxs)))\n",
    "    desired_test = int(round(0.20 * N))\n",
    "    rem = desired_test - len(test_idx)\n",
    "    if rem > 0:\n",
    "        avail = np.array(list(set(range(N)) - test_idx))\n",
    "        choices = rng.choice(avail, size=rem, replace=False)\n",
    "        test_idx.update(map(int, choices))\n",
    "    elif rem < 0:\n",
    "        to_rem = rng.choice(list(test_idx), size=len(test_idx) - desired_test, replace=False)\n",
    "        for x in to_rem: test_idx.remove(x)\n",
    "\n",
    "    test_idx_list = sorted(test_idx)\n",
    "    X_test = [texts[i] for i in test_idx_list]\n",
    "    y_test = labels_all[test_idx_list]\n",
    "    print_stats(X_test, y_test, labels_cols, \"Evaluation Set\")\n",
    "\n",
    "    # 9.4: בניית Train+Validation\n",
    "    train_val_idx = [i for i in range(N) if i not in test_idx]\n",
    "    X_train_val = [texts[i] for i in train_val_idx]\n",
    "    y_train_val = labels_all[train_val_idx]\n",
    "\n",
    "    # 9.5: חלוקה ל־Train/Validation עם כיסוי\n",
    "    X_train, X_val, y_train, y_val = split_with_coverage(\n",
    "        X_train_val, np.array(y_train_val), test_size=0.10, initial_rs=RND\n",
    "    )\n",
    "    print_stats(X_train, y_train, labels_cols, \"Train Set\")\n",
    "    print_stats(X_val,   y_val,   labels_cols, \"Validation Set\")\n",
    "\n",
    "    # 9.6: איתחול Tokenizer ויצירת Datasets\n",
    "    set_tokenizer(AutoTokenizer.from_pretrained(\"bert-base-multilingual-cased\"))\n",
    "    train_ds = CourseDataset(X_train, y_train.tolist())\n",
    "    val_ds   = CourseDataset(X_val,   y_val.tolist())\n",
    "\n",
    "    # 9.7: חיפוש היפר-פרמטרים\n",
    "    hyperparams = {\n",
    "        'learning_rates': [5e-5, 3e-5, 2e-5],\n",
    "        'batch_sizes':    [16, 32],\n",
    "        'weight_decays':  [0.0, 0.01],\n",
    "        'epochs': list(range(1, 4)) \n",
    "    }\n",
    "    best, runs, best_model = hyperparameter_search(\n",
    "        train_ds, val_ds, \"bert-base-multilingual-cased\",\n",
    "        hyperparams, num_labels_per_task=4\n",
    "    )\n",
    "\n",
    "    BEST_BATCH_SIZE = best['params']['batch_size']\n",
    "    print(f\"\\n>>> Best batch size: {BEST_BATCH_SIZE}\")\n",
    "    print(f\"Total runs: {runs}\")\n",
    "    print(f\"Validation Exact-Match: {best['exact_match']:.4f}\")\n",
    "    print(\"Best hyperparams:\", best['params'])\n",
    "\n",
    "    # 9.8: שמירת המודל הטוב ביותר\n",
    "    save_path = Path(r\"C:\\Users\\Gleb\\Desktop\\N.L.P\\best_model.pth\")\n",
    "    torch.save(best_model.state_dict(), save_path)\n",
    "    print(f\"Saved best model to {save_path}\")\n",
    "\n",
    "    # 9.9: הערכה סופית על Test set\n",
    "    test_ds = CourseDataset(X_test, y_test.tolist())\n",
    "    test_loader = DataLoader(test_ds, batch_size=BEST_BATCH_SIZE,\n",
    "                             shuffle=False, pin_memory=True, num_workers=0)\n",
    "\n",
    "    with torch.no_grad():\n",
    "        acc_per_label_test, exact_test = eval_model(best_model, test_loader)\n",
    "\n",
    "    print(\"\\n===== Test-Set Evaluation Results =====\")\n",
    "    print(f\"Exact-Match Accuracy on Test set: {exact_test:.4f}\")\n",
    "    for i, lab in enumerate(labels_cols, start=1):\n",
    "        print(f\"Label {i} ({lab}) Accuracy on Test set: {acc_per_label_test[i-1]:.4f}\")"
   ]
  },
  {
   "cell_type": "code",
   "execution_count": 11,
   "id": "a265799d",
   "metadata": {},
   "outputs": [
    {
     "name": "stdout",
     "output_type": "stream",
     "text": [
      "Using text column: 'review', label columns: ['difficulty', 'interest', 'usefulness', 'teaching_quality']\n",
      "Total examples in dataset: 3500\n",
      "\n",
      "=== Evaluation Set ===\n",
      "Unique label combinations: 25 / 27\n",
      "Label 'difficulty': 0: 426, 1: 63, 2: 63, 3: 148\n",
      "Label 'interest': 0: 299, 1: 110, 2: 62, 3: 229\n",
      "Label 'usefulness': 0: 392, 1: 156, 2: 69, 3: 83\n",
      "Label 'teaching_quality': 0: 410, 1: 120, 2: 66, 3: 104\n",
      "\n",
      "=== Train Set ===\n",
      "Unique label combinations: 25 / 27\n",
      "Label 'difficulty': 0: 1514, 1: 256, 2: 262, 3: 488\n",
      "Label 'interest': 0: 1013, 1: 340, 2: 259, 3: 908\n",
      "Label 'usefulness': 0: 1507, 1: 485, 2: 256, 3: 272\n",
      "Label 'teaching_quality': 0: 1495, 1: 423, 2: 255, 3: 347\n",
      "\n",
      "=== Validation Set ===\n",
      "Unique label combinations: 26 / 27\n",
      "Label 'difficulty': 0: 169, 1: 29, 2: 25, 3: 57\n",
      "Label 'interest': 0: 122, 1: 31, 2: 21, 3: 106\n",
      "Label 'usefulness': 0: 161, 1: 53, 2: 21, 3: 45\n",
      "Label 'teaching_quality': 0: 148, 1: 57, 2: 26, 3: 49\n"
     ]
    },
    {
     "name": "stderr",
     "output_type": "stream",
     "text": [
      "C:\\Users\\Gleb\\anaconda3\\envs\\py311\\Lib\\site-packages\\huggingface_hub\\file_download.py:943: FutureWarning: `resume_download` is deprecated and will be removed in version 1.0.0. Downloads always resume when possible. If you want to force a new download, use `force_download=True`.\n",
      "  warnings.warn(\n"
     ]
    },
    {
     "name": "stdout",
     "output_type": "stream",
     "text": [
      "\n",
      "Run 1/36: lr=5e-05, bs=16, wd=0.0, epochs=1\n"
     ]
    },
    {
     "name": "stderr",
     "output_type": "stream",
     "text": [
      "Run 1/36 · Epoch 1/1: 100%|██████████| 158/158 [00:29<00:00,  5.40batch/s, loss=1.4434]\n"
     ]
    },
    {
     "name": "stdout",
     "output_type": "stream",
     "text": [
      "Exact-Match after Epoch 1: 0.8821\n",
      "\n",
      "Run 2/36: lr=5e-05, bs=16, wd=0.0, epochs=2\n"
     ]
    },
    {
     "name": "stderr",
     "output_type": "stream",
     "text": [
      "C:\\Users\\Gleb\\anaconda3\\envs\\py311\\Lib\\site-packages\\huggingface_hub\\file_download.py:943: FutureWarning: `resume_download` is deprecated and will be removed in version 1.0.0. Downloads always resume when possible. If you want to force a new download, use `force_download=True`.\n",
      "  warnings.warn(\n",
      "Run 2/36 · Epoch 1/2: 100%|██████████| 158/158 [00:28<00:00,  5.62batch/s, loss=0.4517]\n"
     ]
    },
    {
     "name": "stdout",
     "output_type": "stream",
     "text": [
      "Exact-Match after Epoch 1: 0.8857\n"
     ]
    },
    {
     "name": "stderr",
     "output_type": "stream",
     "text": [
      "Run 2/36 · Epoch 2/2: 100%|██████████| 158/158 [00:28<00:00,  5.61batch/s, loss=0.1034]\n"
     ]
    },
    {
     "name": "stdout",
     "output_type": "stream",
     "text": [
      "Exact-Match after Epoch 2: 0.9071\n",
      "\n",
      "Run 3/36: lr=5e-05, bs=16, wd=0.0, epochs=3\n"
     ]
    },
    {
     "name": "stderr",
     "output_type": "stream",
     "text": [
      "Run 3/36 · Epoch 1/3: 100%|██████████| 158/158 [00:28<00:00,  5.55batch/s, loss=0.2610]\n"
     ]
    },
    {
     "name": "stdout",
     "output_type": "stream",
     "text": [
      "Exact-Match after Epoch 1: 0.8571\n"
     ]
    },
    {
     "name": "stderr",
     "output_type": "stream",
     "text": [
      "Run 3/36 · Epoch 2/3: 100%|██████████| 158/158 [00:28<00:00,  5.54batch/s, loss=0.3102]\n"
     ]
    },
    {
     "name": "stdout",
     "output_type": "stream",
     "text": [
      "Exact-Match after Epoch 2: 0.9036\n"
     ]
    },
    {
     "name": "stderr",
     "output_type": "stream",
     "text": [
      "Run 3/36 · Epoch 3/3: 100%|██████████| 158/158 [00:29<00:00,  5.41batch/s, loss=0.0574]\n"
     ]
    },
    {
     "name": "stdout",
     "output_type": "stream",
     "text": [
      "Exact-Match after Epoch 3: 0.9321\n",
      "\n",
      "Run 4/36: lr=5e-05, bs=16, wd=0.01, epochs=1\n"
     ]
    },
    {
     "name": "stderr",
     "output_type": "stream",
     "text": [
      "Run 4/36 · Epoch 1/1: 100%|██████████| 158/158 [00:29<00:00,  5.40batch/s, loss=0.5259]\n"
     ]
    },
    {
     "name": "stdout",
     "output_type": "stream",
     "text": [
      "Exact-Match after Epoch 1: 0.9036\n",
      "\n",
      "Run 5/36: lr=5e-05, bs=16, wd=0.01, epochs=2\n"
     ]
    },
    {
     "name": "stderr",
     "output_type": "stream",
     "text": [
      "Run 5/36 · Epoch 1/2: 100%|██████████| 158/158 [00:31<00:00,  5.06batch/s, loss=0.1949]\n"
     ]
    },
    {
     "name": "stdout",
     "output_type": "stream",
     "text": [
      "Exact-Match after Epoch 1: 0.8679\n"
     ]
    },
    {
     "name": "stderr",
     "output_type": "stream",
     "text": [
      "Run 5/36 · Epoch 2/2: 100%|██████████| 158/158 [00:28<00:00,  5.46batch/s, loss=0.0825]\n"
     ]
    },
    {
     "name": "stdout",
     "output_type": "stream",
     "text": [
      "Exact-Match after Epoch 2: 0.9036\n",
      "\n",
      "Run 6/36: lr=5e-05, bs=16, wd=0.01, epochs=3\n"
     ]
    },
    {
     "name": "stderr",
     "output_type": "stream",
     "text": [
      "Run 6/36 · Epoch 1/3: 100%|██████████| 158/158 [00:29<00:00,  5.43batch/s, loss=0.2895]\n"
     ]
    },
    {
     "name": "stdout",
     "output_type": "stream",
     "text": [
      "Exact-Match after Epoch 1: 0.8750\n"
     ]
    },
    {
     "name": "stderr",
     "output_type": "stream",
     "text": [
      "Run 6/36 · Epoch 2/3: 100%|██████████| 158/158 [00:29<00:00,  5.42batch/s, loss=0.1357]\n"
     ]
    },
    {
     "name": "stdout",
     "output_type": "stream",
     "text": [
      "Exact-Match after Epoch 2: 0.9250\n"
     ]
    },
    {
     "name": "stderr",
     "output_type": "stream",
     "text": [
      "Run 6/36 · Epoch 3/3: 100%|██████████| 158/158 [00:30<00:00,  5.26batch/s, loss=0.0525]\n"
     ]
    },
    {
     "name": "stdout",
     "output_type": "stream",
     "text": [
      "Exact-Match after Epoch 3: 0.9393\n",
      "\n",
      "Run 7/36: lr=5e-05, bs=32, wd=0.0, epochs=1\n"
     ]
    },
    {
     "name": "stderr",
     "output_type": "stream",
     "text": [
      "Run 7/36 · Epoch 1/1: 100%|██████████| 79/79 [00:37<00:00,  2.11batch/s, loss=1.0770]\n"
     ]
    },
    {
     "name": "stdout",
     "output_type": "stream",
     "text": [
      "Exact-Match after Epoch 1: 0.8643\n",
      "\n",
      "Run 8/36: lr=5e-05, bs=32, wd=0.0, epochs=2\n"
     ]
    },
    {
     "name": "stderr",
     "output_type": "stream",
     "text": [
      "Run 8/36 · Epoch 1/2: 100%|██████████| 79/79 [00:39<00:00,  2.01batch/s, loss=0.6277]\n"
     ]
    },
    {
     "name": "stdout",
     "output_type": "stream",
     "text": [
      "Exact-Match after Epoch 1: 0.8679\n"
     ]
    },
    {
     "name": "stderr",
     "output_type": "stream",
     "text": [
      "Run 8/36 · Epoch 2/2: 100%|██████████| 79/79 [00:36<00:00,  2.15batch/s, loss=0.1903]\n"
     ]
    },
    {
     "name": "stdout",
     "output_type": "stream",
     "text": [
      "Exact-Match after Epoch 2: 0.9179\n",
      "\n",
      "Run 9/36: lr=5e-05, bs=32, wd=0.0, epochs=3\n"
     ]
    },
    {
     "name": "stderr",
     "output_type": "stream",
     "text": [
      "Run 9/36 · Epoch 1/3: 100%|██████████| 79/79 [00:24<00:00,  3.23batch/s, loss=0.6267]\n"
     ]
    },
    {
     "name": "stdout",
     "output_type": "stream",
     "text": [
      "Exact-Match after Epoch 1: 0.9000\n"
     ]
    },
    {
     "name": "stderr",
     "output_type": "stream",
     "text": [
      "Run 9/36 · Epoch 2/3: 100%|██████████| 79/79 [00:24<00:00,  3.23batch/s, loss=0.0976]\n"
     ]
    },
    {
     "name": "stdout",
     "output_type": "stream",
     "text": [
      "Exact-Match after Epoch 2: 0.9214\n"
     ]
    },
    {
     "name": "stderr",
     "output_type": "stream",
     "text": [
      "Run 9/36 · Epoch 3/3: 100%|██████████| 79/79 [00:27<00:00,  2.87batch/s, loss=0.0973]\n"
     ]
    },
    {
     "name": "stdout",
     "output_type": "stream",
     "text": [
      "Exact-Match after Epoch 3: 0.9321\n",
      "\n",
      "Run 10/36: lr=5e-05, bs=32, wd=0.01, epochs=1\n"
     ]
    },
    {
     "name": "stderr",
     "output_type": "stream",
     "text": [
      "Run 10/36 · Epoch 1/1: 100%|██████████| 79/79 [00:27<00:00,  2.92batch/s, loss=0.7240]\n"
     ]
    },
    {
     "name": "stdout",
     "output_type": "stream",
     "text": [
      "Exact-Match after Epoch 1: 0.8214\n",
      "\n",
      "Run 11/36: lr=5e-05, bs=32, wd=0.01, epochs=2\n"
     ]
    },
    {
     "name": "stderr",
     "output_type": "stream",
     "text": [
      "Run 11/36 · Epoch 1/2: 100%|██████████| 79/79 [00:26<00:00,  3.03batch/s, loss=0.7167]\n"
     ]
    },
    {
     "name": "stdout",
     "output_type": "stream",
     "text": [
      "Exact-Match after Epoch 1: 0.8393\n"
     ]
    },
    {
     "name": "stderr",
     "output_type": "stream",
     "text": [
      "Run 11/36 · Epoch 2/2: 100%|██████████| 79/79 [00:29<00:00,  2.68batch/s, loss=0.2595]\n"
     ]
    },
    {
     "name": "stdout",
     "output_type": "stream",
     "text": [
      "Exact-Match after Epoch 2: 0.8964\n",
      "\n",
      "Run 12/36: lr=5e-05, bs=32, wd=0.01, epochs=3\n"
     ]
    },
    {
     "name": "stderr",
     "output_type": "stream",
     "text": [
      "Run 12/36 · Epoch 1/3: 100%|██████████| 79/79 [00:25<00:00,  3.05batch/s, loss=0.9617]\n"
     ]
    },
    {
     "name": "stdout",
     "output_type": "stream",
     "text": [
      "Exact-Match after Epoch 1: 0.8964\n"
     ]
    },
    {
     "name": "stderr",
     "output_type": "stream",
     "text": [
      "Run 12/36 · Epoch 2/3: 100%|██████████| 79/79 [00:25<00:00,  3.14batch/s, loss=0.2793]\n"
     ]
    },
    {
     "name": "stdout",
     "output_type": "stream",
     "text": [
      "Exact-Match after Epoch 2: 0.9000\n"
     ]
    },
    {
     "name": "stderr",
     "output_type": "stream",
     "text": [
      "Run 12/36 · Epoch 3/3: 100%|██████████| 79/79 [00:24<00:00,  3.18batch/s, loss=0.1505]\n"
     ]
    },
    {
     "name": "stdout",
     "output_type": "stream",
     "text": [
      "Exact-Match after Epoch 3: 0.9286\n",
      "\n",
      "Run 13/36: lr=3e-05, bs=16, wd=0.0, epochs=1\n"
     ]
    },
    {
     "name": "stderr",
     "output_type": "stream",
     "text": [
      "Run 13/36 · Epoch 1/1: 100%|██████████| 158/158 [00:28<00:00,  5.56batch/s, loss=0.4833]\n"
     ]
    },
    {
     "name": "stdout",
     "output_type": "stream",
     "text": [
      "Exact-Match after Epoch 1: 0.8286\n",
      "\n",
      "Run 14/36: lr=3e-05, bs=16, wd=0.0, epochs=2\n"
     ]
    },
    {
     "name": "stderr",
     "output_type": "stream",
     "text": [
      "Run 14/36 · Epoch 1/2: 100%|██████████| 158/158 [00:33<00:00,  4.74batch/s, loss=0.3922]\n"
     ]
    },
    {
     "name": "stdout",
     "output_type": "stream",
     "text": [
      "Exact-Match after Epoch 1: 0.8857\n"
     ]
    },
    {
     "name": "stderr",
     "output_type": "stream",
     "text": [
      "Run 14/36 · Epoch 2/2: 100%|██████████| 158/158 [00:28<00:00,  5.52batch/s, loss=0.3820]\n"
     ]
    },
    {
     "name": "stdout",
     "output_type": "stream",
     "text": [
      "Exact-Match after Epoch 2: 0.9036\n",
      "\n",
      "Run 15/36: lr=3e-05, bs=16, wd=0.0, epochs=3\n"
     ]
    },
    {
     "name": "stderr",
     "output_type": "stream",
     "text": [
      "Run 15/36 · Epoch 1/3: 100%|██████████| 158/158 [00:31<00:00,  4.97batch/s, loss=0.1803]\n"
     ]
    },
    {
     "name": "stdout",
     "output_type": "stream",
     "text": [
      "Exact-Match after Epoch 1: 0.8964\n"
     ]
    },
    {
     "name": "stderr",
     "output_type": "stream",
     "text": [
      "Run 15/36 · Epoch 2/3: 100%|██████████| 158/158 [00:29<00:00,  5.36batch/s, loss=0.4430]\n"
     ]
    },
    {
     "name": "stdout",
     "output_type": "stream",
     "text": [
      "Exact-Match after Epoch 2: 0.9071\n"
     ]
    },
    {
     "name": "stderr",
     "output_type": "stream",
     "text": [
      "Run 15/36 · Epoch 3/3: 100%|██████████| 158/158 [00:30<00:00,  5.25batch/s, loss=0.1091]\n"
     ]
    },
    {
     "name": "stdout",
     "output_type": "stream",
     "text": [
      "Exact-Match after Epoch 3: 0.9250\n",
      "\n",
      "Run 16/36: lr=3e-05, bs=16, wd=0.01, epochs=1\n"
     ]
    },
    {
     "name": "stderr",
     "output_type": "stream",
     "text": [
      "Run 16/36 · Epoch 1/1: 100%|██████████| 158/158 [00:30<00:00,  5.26batch/s, loss=0.5843]\n"
     ]
    },
    {
     "name": "stdout",
     "output_type": "stream",
     "text": [
      "Exact-Match after Epoch 1: 0.8464\n",
      "\n",
      "Run 17/36: lr=3e-05, bs=16, wd=0.01, epochs=2\n"
     ]
    },
    {
     "name": "stderr",
     "output_type": "stream",
     "text": [
      "Run 17/36 · Epoch 1/2: 100%|██████████| 158/158 [00:29<00:00,  5.28batch/s, loss=0.5473]\n"
     ]
    },
    {
     "name": "stdout",
     "output_type": "stream",
     "text": [
      "Exact-Match after Epoch 1: 0.8857\n"
     ]
    },
    {
     "name": "stderr",
     "output_type": "stream",
     "text": [
      "Run 17/36 · Epoch 2/2: 100%|██████████| 158/158 [00:31<00:00,  5.04batch/s, loss=0.1081]\n"
     ]
    },
    {
     "name": "stdout",
     "output_type": "stream",
     "text": [
      "Exact-Match after Epoch 2: 0.8893\n",
      "\n",
      "Run 18/36: lr=3e-05, bs=16, wd=0.01, epochs=3\n"
     ]
    },
    {
     "name": "stderr",
     "output_type": "stream",
     "text": [
      "Run 18/36 · Epoch 1/3: 100%|██████████| 158/158 [00:29<00:00,  5.43batch/s, loss=0.7264]\n"
     ]
    },
    {
     "name": "stdout",
     "output_type": "stream",
     "text": [
      "Exact-Match after Epoch 1: 0.8679\n"
     ]
    },
    {
     "name": "stderr",
     "output_type": "stream",
     "text": [
      "Run 18/36 · Epoch 2/3: 100%|██████████| 158/158 [00:31<00:00,  5.03batch/s, loss=0.2143]\n"
     ]
    },
    {
     "name": "stdout",
     "output_type": "stream",
     "text": [
      "Exact-Match after Epoch 2: 0.9214\n"
     ]
    },
    {
     "name": "stderr",
     "output_type": "stream",
     "text": [
      "Run 18/36 · Epoch 3/3: 100%|██████████| 158/158 [00:30<00:00,  5.16batch/s, loss=0.1049]\n"
     ]
    },
    {
     "name": "stdout",
     "output_type": "stream",
     "text": [
      "Exact-Match after Epoch 3: 0.9393\n",
      "\n",
      "Run 19/36: lr=3e-05, bs=32, wd=0.0, epochs=1\n"
     ]
    },
    {
     "name": "stderr",
     "output_type": "stream",
     "text": [
      "Run 19/36 · Epoch 1/1: 100%|██████████| 79/79 [00:25<00:00,  3.06batch/s, loss=1.3041]\n"
     ]
    },
    {
     "name": "stdout",
     "output_type": "stream",
     "text": [
      "Exact-Match after Epoch 1: 0.7286\n",
      "\n",
      "Run 20/36: lr=3e-05, bs=32, wd=0.0, epochs=2\n"
     ]
    },
    {
     "name": "stderr",
     "output_type": "stream",
     "text": [
      "Run 20/36 · Epoch 1/2: 100%|██████████| 79/79 [00:26<00:00,  2.93batch/s, loss=0.5033]\n"
     ]
    },
    {
     "name": "stdout",
     "output_type": "stream",
     "text": [
      "Exact-Match after Epoch 1: 0.8536\n"
     ]
    },
    {
     "name": "stderr",
     "output_type": "stream",
     "text": [
      "Run 20/36 · Epoch 2/2: 100%|██████████| 79/79 [00:24<00:00,  3.16batch/s, loss=0.4752]\n"
     ]
    },
    {
     "name": "stdout",
     "output_type": "stream",
     "text": [
      "Exact-Match after Epoch 2: 0.8929\n",
      "\n",
      "Run 21/36: lr=3e-05, bs=32, wd=0.0, epochs=3\n"
     ]
    },
    {
     "name": "stderr",
     "output_type": "stream",
     "text": [
      "Run 21/36 · Epoch 1/3: 100%|██████████| 79/79 [00:26<00:00,  3.01batch/s, loss=0.9131]\n"
     ]
    },
    {
     "name": "stdout",
     "output_type": "stream",
     "text": [
      "Exact-Match after Epoch 1: 0.8500\n"
     ]
    },
    {
     "name": "stderr",
     "output_type": "stream",
     "text": [
      "Run 21/36 · Epoch 2/3: 100%|██████████| 79/79 [00:26<00:00,  2.98batch/s, loss=0.4845]\n"
     ]
    },
    {
     "name": "stdout",
     "output_type": "stream",
     "text": [
      "Exact-Match after Epoch 2: 0.9000\n"
     ]
    },
    {
     "name": "stderr",
     "output_type": "stream",
     "text": [
      "Run 21/36 · Epoch 3/3: 100%|██████████| 79/79 [00:26<00:00,  3.00batch/s, loss=0.2260]\n"
     ]
    },
    {
     "name": "stdout",
     "output_type": "stream",
     "text": [
      "Exact-Match after Epoch 3: 0.9143\n",
      "\n",
      "Run 22/36: lr=3e-05, bs=32, wd=0.01, epochs=1\n"
     ]
    },
    {
     "name": "stderr",
     "output_type": "stream",
     "text": [
      "Run 22/36 · Epoch 1/1: 100%|██████████| 79/79 [00:25<00:00,  3.06batch/s, loss=1.1940]\n"
     ]
    },
    {
     "name": "stdout",
     "output_type": "stream",
     "text": [
      "Exact-Match after Epoch 1: 0.7429\n",
      "\n",
      "Run 23/36: lr=3e-05, bs=32, wd=0.01, epochs=2\n"
     ]
    },
    {
     "name": "stderr",
     "output_type": "stream",
     "text": [
      "Run 23/36 · Epoch 1/2: 100%|██████████| 79/79 [00:25<00:00,  3.08batch/s, loss=1.0384]\n"
     ]
    },
    {
     "name": "stdout",
     "output_type": "stream",
     "text": [
      "Exact-Match after Epoch 1: 0.8357\n"
     ]
    },
    {
     "name": "stderr",
     "output_type": "stream",
     "text": [
      "Run 23/36 · Epoch 2/2: 100%|██████████| 79/79 [00:24<00:00,  3.19batch/s, loss=0.4338]\n"
     ]
    },
    {
     "name": "stdout",
     "output_type": "stream",
     "text": [
      "Exact-Match after Epoch 2: 0.8893\n",
      "\n",
      "Run 24/36: lr=3e-05, bs=32, wd=0.01, epochs=3\n"
     ]
    },
    {
     "name": "stderr",
     "output_type": "stream",
     "text": [
      "Run 24/36 · Epoch 1/3: 100%|██████████| 79/79 [00:25<00:00,  3.14batch/s, loss=0.6921]\n"
     ]
    },
    {
     "name": "stdout",
     "output_type": "stream",
     "text": [
      "Exact-Match after Epoch 1: 0.8643\n"
     ]
    },
    {
     "name": "stderr",
     "output_type": "stream",
     "text": [
      "Run 24/36 · Epoch 2/3: 100%|██████████| 79/79 [00:27<00:00,  2.92batch/s, loss=0.2640]\n"
     ]
    },
    {
     "name": "stdout",
     "output_type": "stream",
     "text": [
      "Exact-Match after Epoch 2: 0.9143\n"
     ]
    },
    {
     "name": "stderr",
     "output_type": "stream",
     "text": [
      "Run 24/36 · Epoch 3/3: 100%|██████████| 79/79 [00:26<00:00,  2.96batch/s, loss=0.1484]\n"
     ]
    },
    {
     "name": "stdout",
     "output_type": "stream",
     "text": [
      "Exact-Match after Epoch 3: 0.9250\n",
      "\n",
      "Run 25/36: lr=2e-05, bs=16, wd=0.0, epochs=1\n"
     ]
    },
    {
     "name": "stderr",
     "output_type": "stream",
     "text": [
      "Run 25/36 · Epoch 1/1: 100%|██████████| 158/158 [00:30<00:00,  5.25batch/s, loss=0.8469]\n"
     ]
    },
    {
     "name": "stdout",
     "output_type": "stream",
     "text": [
      "Exact-Match after Epoch 1: 0.8250\n",
      "\n",
      "Run 26/36: lr=2e-05, bs=16, wd=0.0, epochs=2\n"
     ]
    },
    {
     "name": "stderr",
     "output_type": "stream",
     "text": [
      "Run 26/36 · Epoch 1/2: 100%|██████████| 158/158 [00:29<00:00,  5.28batch/s, loss=0.6344]\n"
     ]
    },
    {
     "name": "stdout",
     "output_type": "stream",
     "text": [
      "Exact-Match after Epoch 1: 0.8321\n"
     ]
    },
    {
     "name": "stderr",
     "output_type": "stream",
     "text": [
      "Run 26/36 · Epoch 2/2: 100%|██████████| 158/158 [00:30<00:00,  5.23batch/s, loss=0.3343]\n"
     ]
    },
    {
     "name": "stdout",
     "output_type": "stream",
     "text": [
      "Exact-Match after Epoch 2: 0.9000\n",
      "\n",
      "Run 27/36: lr=2e-05, bs=16, wd=0.0, epochs=3\n"
     ]
    },
    {
     "name": "stderr",
     "output_type": "stream",
     "text": [
      "Run 27/36 · Epoch 1/3: 100%|██████████| 158/158 [00:32<00:00,  4.86batch/s, loss=0.5490]\n"
     ]
    },
    {
     "name": "stdout",
     "output_type": "stream",
     "text": [
      "Exact-Match after Epoch 1: 0.8500\n"
     ]
    },
    {
     "name": "stderr",
     "output_type": "stream",
     "text": [
      "Run 27/36 · Epoch 2/3: 100%|██████████| 158/158 [00:30<00:00,  5.27batch/s, loss=0.6089]\n"
     ]
    },
    {
     "name": "stdout",
     "output_type": "stream",
     "text": [
      "Exact-Match after Epoch 2: 0.9000\n"
     ]
    },
    {
     "name": "stderr",
     "output_type": "stream",
     "text": [
      "Run 27/36 · Epoch 3/3: 100%|██████████| 158/158 [00:30<00:00,  5.26batch/s, loss=0.0980]\n"
     ]
    },
    {
     "name": "stdout",
     "output_type": "stream",
     "text": [
      "Exact-Match after Epoch 3: 0.8964\n",
      "\n",
      "Run 28/36: lr=2e-05, bs=16, wd=0.01, epochs=1\n"
     ]
    },
    {
     "name": "stderr",
     "output_type": "stream",
     "text": [
      "Run 28/36 · Epoch 1/1: 100%|██████████| 158/158 [00:31<00:00,  4.98batch/s, loss=1.0611]\n"
     ]
    },
    {
     "name": "stdout",
     "output_type": "stream",
     "text": [
      "Exact-Match after Epoch 1: 0.7821\n",
      "\n",
      "Run 29/36: lr=2e-05, bs=16, wd=0.01, epochs=2\n"
     ]
    },
    {
     "name": "stderr",
     "output_type": "stream",
     "text": [
      "Run 29/36 · Epoch 1/2: 100%|██████████| 158/158 [00:29<00:00,  5.37batch/s, loss=1.2047]\n"
     ]
    },
    {
     "name": "stdout",
     "output_type": "stream",
     "text": [
      "Exact-Match after Epoch 1: 0.8393\n"
     ]
    },
    {
     "name": "stderr",
     "output_type": "stream",
     "text": [
      "Run 29/36 · Epoch 2/2: 100%|██████████| 158/158 [00:30<00:00,  5.20batch/s, loss=0.1679]\n"
     ]
    },
    {
     "name": "stdout",
     "output_type": "stream",
     "text": [
      "Exact-Match after Epoch 2: 0.8929\n",
      "\n",
      "Run 30/36: lr=2e-05, bs=16, wd=0.01, epochs=3\n"
     ]
    },
    {
     "name": "stderr",
     "output_type": "stream",
     "text": [
      "Run 30/36 · Epoch 1/3: 100%|██████████| 158/158 [00:30<00:00,  5.21batch/s, loss=0.3710]\n"
     ]
    },
    {
     "name": "stdout",
     "output_type": "stream",
     "text": [
      "Exact-Match after Epoch 1: 0.8429\n"
     ]
    },
    {
     "name": "stderr",
     "output_type": "stream",
     "text": [
      "Run 30/36 · Epoch 2/3: 100%|██████████| 158/158 [00:29<00:00,  5.29batch/s, loss=0.5065]\n"
     ]
    },
    {
     "name": "stdout",
     "output_type": "stream",
     "text": [
      "Exact-Match after Epoch 2: 0.8893\n"
     ]
    },
    {
     "name": "stderr",
     "output_type": "stream",
     "text": [
      "Run 30/36 · Epoch 3/3: 100%|██████████| 158/158 [00:30<00:00,  5.21batch/s, loss=0.1489]\n"
     ]
    },
    {
     "name": "stdout",
     "output_type": "stream",
     "text": [
      "Exact-Match after Epoch 3: 0.9107\n",
      "\n",
      "Run 31/36: lr=2e-05, bs=32, wd=0.0, epochs=1\n"
     ]
    },
    {
     "name": "stderr",
     "output_type": "stream",
     "text": [
      "Run 31/36 · Epoch 1/1: 100%|██████████| 79/79 [00:25<00:00,  3.06batch/s, loss=1.4372]\n"
     ]
    },
    {
     "name": "stdout",
     "output_type": "stream",
     "text": [
      "Exact-Match after Epoch 1: 0.6500\n",
      "\n",
      "Run 32/36: lr=2e-05, bs=32, wd=0.0, epochs=2\n"
     ]
    },
    {
     "name": "stderr",
     "output_type": "stream",
     "text": [
      "Run 32/36 · Epoch 1/2: 100%|██████████| 79/79 [00:26<00:00,  3.02batch/s, loss=1.0166]\n"
     ]
    },
    {
     "name": "stdout",
     "output_type": "stream",
     "text": [
      "Exact-Match after Epoch 1: 0.7929\n"
     ]
    },
    {
     "name": "stderr",
     "output_type": "stream",
     "text": [
      "Run 32/36 · Epoch 2/2: 100%|██████████| 79/79 [00:26<00:00,  3.03batch/s, loss=0.6449]\n"
     ]
    },
    {
     "name": "stdout",
     "output_type": "stream",
     "text": [
      "Exact-Match after Epoch 2: 0.8750\n",
      "\n",
      "Run 33/36: lr=2e-05, bs=32, wd=0.0, epochs=3\n"
     ]
    },
    {
     "name": "stderr",
     "output_type": "stream",
     "text": [
      "Run 33/36 · Epoch 1/3: 100%|██████████| 79/79 [00:25<00:00,  3.05batch/s, loss=0.8596]\n"
     ]
    },
    {
     "name": "stdout",
     "output_type": "stream",
     "text": [
      "Exact-Match after Epoch 1: 0.7821\n"
     ]
    },
    {
     "name": "stderr",
     "output_type": "stream",
     "text": [
      "Run 33/36 · Epoch 2/3: 100%|██████████| 79/79 [00:25<00:00,  3.08batch/s, loss=0.3721]\n"
     ]
    },
    {
     "name": "stdout",
     "output_type": "stream",
     "text": [
      "Exact-Match after Epoch 2: 0.8857\n"
     ]
    },
    {
     "name": "stderr",
     "output_type": "stream",
     "text": [
      "Run 33/36 · Epoch 3/3: 100%|██████████| 79/79 [00:26<00:00,  3.02batch/s, loss=0.3325]\n"
     ]
    },
    {
     "name": "stdout",
     "output_type": "stream",
     "text": [
      "Exact-Match after Epoch 3: 0.9000\n",
      "\n",
      "Run 34/36: lr=2e-05, bs=32, wd=0.01, epochs=1\n"
     ]
    },
    {
     "name": "stderr",
     "output_type": "stream",
     "text": [
      "Run 34/36 · Epoch 1/1: 100%|██████████| 79/79 [00:25<00:00,  3.09batch/s, loss=1.5573]\n"
     ]
    },
    {
     "name": "stdout",
     "output_type": "stream",
     "text": [
      "Exact-Match after Epoch 1: 0.6643\n",
      "\n",
      "Run 35/36: lr=2e-05, bs=32, wd=0.01, epochs=2\n"
     ]
    },
    {
     "name": "stderr",
     "output_type": "stream",
     "text": [
      "Run 35/36 · Epoch 1/2: 100%|██████████| 79/79 [00:28<00:00,  2.77batch/s, loss=1.6374]\n"
     ]
    },
    {
     "name": "stdout",
     "output_type": "stream",
     "text": [
      "Exact-Match after Epoch 1: 0.7643\n"
     ]
    },
    {
     "name": "stderr",
     "output_type": "stream",
     "text": [
      "Run 35/36 · Epoch 2/2: 100%|██████████| 79/79 [00:25<00:00,  3.04batch/s, loss=0.8761]\n"
     ]
    },
    {
     "name": "stdout",
     "output_type": "stream",
     "text": [
      "Exact-Match after Epoch 2: 0.8857\n",
      "\n",
      "Run 36/36: lr=2e-05, bs=32, wd=0.01, epochs=3\n"
     ]
    },
    {
     "name": "stderr",
     "output_type": "stream",
     "text": [
      "Run 36/36 · Epoch 1/3: 100%|██████████| 79/79 [00:25<00:00,  3.04batch/s, loss=1.0851]\n"
     ]
    },
    {
     "name": "stdout",
     "output_type": "stream",
     "text": [
      "Exact-Match after Epoch 1: 0.8036\n"
     ]
    },
    {
     "name": "stderr",
     "output_type": "stream",
     "text": [
      "Run 36/36 · Epoch 2/3: 100%|██████████| 79/79 [00:26<00:00,  3.03batch/s, loss=0.5726]\n"
     ]
    },
    {
     "name": "stdout",
     "output_type": "stream",
     "text": [
      "Exact-Match after Epoch 2: 0.8964\n"
     ]
    },
    {
     "name": "stderr",
     "output_type": "stream",
     "text": [
      "Run 36/36 · Epoch 3/3: 100%|██████████| 79/79 [00:27<00:00,  2.90batch/s, loss=0.3725]\n"
     ]
    },
    {
     "name": "stdout",
     "output_type": "stream",
     "text": [
      "Exact-Match after Epoch 3: 0.9000\n",
      "\n",
      ">>> Best batch size: 16\n",
      "Total runs: 36\n",
      "Validation Exact-Match: 0.9393\n",
      "Best hyperparams: {'learning_rate': 5e-05, 'batch_size': 16, 'weight_decay': 0.01, 'epochs': 3}\n",
      "Saved best model to C:\\Users\\Gleb\\Desktop\\N.L.P\\best_model.pth\n",
      "\n",
      "===== Test-Set Evaluation Results =====\n",
      "Exact-Match Accuracy on Test set: 0.9000\n",
      "Label 1 (difficulty) Accuracy on Test set: 0.9757\n",
      "Label 2 (interest) Accuracy on Test set: 0.9543\n",
      "Label 3 (usefulness) Accuracy on Test set: 0.9729\n",
      "Label 4 (teaching_quality) Accuracy on Test set: 0.9571\n"
     ]
    }
   ],
   "source": [
    "# חלק 10: הרצה\n",
    "if __name__ == \"__main__\":\n",
    "    main()"
   ]
  },
  {
   "cell_type": "code",
   "execution_count": null,
   "id": "98d17a21",
   "metadata": {},
   "outputs": [],
   "source": []
  },
  {
   "cell_type": "code",
   "execution_count": null,
   "id": "c2d00846",
   "metadata": {},
   "outputs": [],
   "source": []
  },
  {
   "cell_type": "code",
   "execution_count": null,
   "id": "0f9cd157",
   "metadata": {},
   "outputs": [],
   "source": []
  },
  {
   "cell_type": "code",
   "execution_count": null,
   "id": "bb76f6a0",
   "metadata": {},
   "outputs": [],
   "source": []
  },
  {
   "cell_type": "code",
   "execution_count": null,
   "id": "a8e0bf9e",
   "metadata": {},
   "outputs": [],
   "source": []
  },
  {
   "cell_type": "code",
   "execution_count": null,
   "id": "2432e179",
   "metadata": {},
   "outputs": [],
   "source": []
  },
  {
   "cell_type": "code",
   "execution_count": null,
   "id": "39519815",
   "metadata": {},
   "outputs": [],
   "source": []
  },
  {
   "cell_type": "code",
   "execution_count": null,
   "id": "89185ab7",
   "metadata": {},
   "outputs": [],
   "source": []
  },
  {
   "cell_type": "code",
   "execution_count": null,
   "id": "3c1632b7",
   "metadata": {},
   "outputs": [],
   "source": []
  },
  {
   "cell_type": "code",
   "execution_count": null,
   "id": "455e1dc7",
   "metadata": {},
   "outputs": [],
   "source": []
  },
  {
   "cell_type": "code",
   "execution_count": 12,
   "id": "d98ec565",
   "metadata": {},
   "outputs": [],
   "source": [
    "############################################### Bert Results Exploration #######################################################"
   ]
  },
  {
   "cell_type": "code",
   "execution_count": 13,
   "id": "2a6e3fe1",
   "metadata": {},
   "outputs": [
    {
     "name": "stderr",
     "output_type": "stream",
     "text": [
      "C:\\Users\\Gleb\\anaconda3\\envs\\py311\\Lib\\site-packages\\huggingface_hub\\file_download.py:943: FutureWarning: `resume_download` is deprecated and will be removed in version 1.0.0. Downloads always resume when possible. If you want to force a new download, use `force_download=True`.\n",
      "  warnings.warn(\n",
      "C:\\Users\\Gleb\\AppData\\Local\\Temp\\ipykernel_5700\\1652636559.py:112: FutureWarning: You are using `torch.load` with `weights_only=False` (the current default value), which uses the default pickle module implicitly. It is possible to construct malicious pickle data which will execute arbitrary code during unpickling (See https://github.com/pytorch/pytorch/blob/main/SECURITY.md#untrusted-models for more details). In a future release, the default value for `weights_only` will be flipped to `True`. This limits the functions that could be executed during unpickling. Arbitrary objects will no longer be allowed to be loaded via this mode unless they are explicitly allowlisted by the user via `torch.serialization.add_safe_globals`. We recommend you start setting `weights_only=True` for any use case where you don't have full control of the loaded file. Please open an issue on GitHub for any issues related to this experimental feature.\n",
      "  loaded_model.load_state_dict(torch.load(MODEL_PATH, map_location=\"cuda\"))\n"
     ]
    },
    {
     "data": {
      "image/png": "[encoded data removed]",
      "text/plain": [
       "<Figure size 350x350 with 2 Axes>"
      ]
     },
     "metadata": {},
     "output_type": "display_data"
    },
    {
     "data": {
      "image/png": "[encoded data removed]",
      "text/plain": [
       "<Figure size 350x350 with 2 Axes>"
      ]
     },
     "metadata": {},
     "output_type": "display_data"
    },
    {
     "data": {
      "image/png": "[encoded data removed]",
      "text/plain": [
       "<Figure size 350x350 with 2 Axes>"
      ]
     },
     "metadata": {},
     "output_type": "display_data"
    },
    {
     "data": {
      "image/png": "[encoded data removed]",
      "text/plain": [
       "<Figure size 350x350 with 2 Axes>"
      ]
     },
     "metadata": {},
     "output_type": "display_data"
    }
   ],
   "source": [
    "# ========================================\n",
    "# Confusion Matrix\n",
    "# ========================================\n",
    "\n",
    "\n",
    "import os\n",
    "import numpy as np\n",
    "import pandas as pd\n",
    "import torch\n",
    "import matplotlib.pyplot as plt\n",
    "from pathlib import Path\n",
    "from torch.utils.data import DataLoader, Dataset\n",
    "from sklearn.metrics import confusion_matrix\n",
    "from transformers import AutoTokenizer, AutoModel\n",
    "import torch.nn as nn\n",
    "\n",
    "# --------------------------------------------\n",
    "# 1. Define Dataset and Model (must match the original definitions)\n",
    "# --------------------------------------------\n",
    "tokenizer = None\n",
    "def set_tokenizer(tok):\n",
    "    global tokenizer\n",
    "    tokenizer = tok\n",
    "\n",
    "class CourseDataset(Dataset):\n",
    "    def __init__(self, texts, labels, max_length=128):\n",
    "        self.texts = texts\n",
    "        self.labels = labels\n",
    "        self.max_length = max_length\n",
    "\n",
    "    def __len__(self):\n",
    "        return len(self.texts)\n",
    "\n",
    "    def __getitem__(self, idx):\n",
    "        enc = tokenizer(\n",
    "            self.texts[idx],\n",
    "            padding='max_length',\n",
    "            truncation=True,\n",
    "            max_length=self.max_length,\n",
    "            return_tensors='pt'\n",
    "        )\n",
    "        item = {k: v.squeeze(0) for k, v in enc.items()}\n",
    "        item['labels'] = torch.tensor(self.labels[idx], dtype=torch.long)\n",
    "        return item\n",
    "\n",
    "class CourseSentimentModel(nn.Module):\n",
    "    def __init__(self, model_name, num_labels_per_task):\n",
    "        super().__init__()\n",
    "        self.bert = AutoModel.from_pretrained(model_name)\n",
    "        hidden = self.bert.config.hidden_size\n",
    "        self.classifiers = nn.ModuleList([\n",
    "            nn.Linear(hidden, num_labels_per_task) for _ in range(4)\n",
    "        ])\n",
    "\n",
    "    def forward(self, input_ids, attention_mask):\n",
    "        outputs = self.bert(input_ids=input_ids, attention_mask=attention_mask)\n",
    "        cls = outputs.last_hidden_state[:, 0, :]  # [CLS] token\n",
    "        return [clf(cls) for clf in self.classifiers]\n",
    "\n",
    "# --------------------------------------------\n",
    "# 2. Load CSV and reconstruct the same Test split (700 examples)\n",
    "# --------------------------------------------\n",
    "DATA_PATH = r\"C:\\Users\\Gleb\\Desktop\\N.L.P\\CHATGPT_DATASET.csv\"\n",
    "df = pd.read_csv(DATA_PATH, encoding='cp1252', engine='python')\n",
    "df.dropna(subset=[df.columns[0]], inplace=True)\n",
    "\n",
    "labels_cols = ['difficulty', 'interest', 'usefulness', 'teaching_quality']\n",
    "assert all(col in df.columns for col in labels_cols)\n",
    "\n",
    "# Convert labels to numpy array\n",
    "labels_all = df[labels_cols].astype(int).values  # shape = (N, 4)\n",
    "texts = df[df.columns[0]].astype(str).tolist()\n",
    "N = len(texts)\n",
    "\n",
    "# Stratified selection for Test set\n",
    "RND = 42\n",
    "rng = np.random.RandomState(RND)\n",
    "\n",
    "test_idx_set = set()\n",
    "for i_label, col in enumerate(labels_cols):\n",
    "    for v in [0, 1, 2, 3]:\n",
    "        idxs_with_v = np.where(labels_all[:, i_label] == v)[0]\n",
    "        if len(idxs_with_v) == 0:\n",
    "            continue\n",
    "        chosen = rng.choice(idxs_with_v)\n",
    "        test_idx_set.add(int(chosen))\n",
    "\n",
    "# Complete up to 20% of N\n",
    "desired_test_size = int(round(0.20 * N))\n",
    "remaining_to_add = desired_test_size - len(test_idx_set)\n",
    "if remaining_to_add < 0:\n",
    "    to_remove = rng.choice(\n",
    "        list(test_idx_set),\n",
    "        size=(len(test_idx_set) - desired_test_size),\n",
    "        replace=False\n",
    "    )\n",
    "    for x in to_remove:\n",
    "        test_idx_set.remove(x)\n",
    "    remaining_to_add = 0\n",
    "elif remaining_to_add > 0:\n",
    "    all_idxs = set(range(N))\n",
    "    available = np.array(list(all_idxs - test_idx_set))\n",
    "    choices = rng.choice(available, size=remaining_to_add, replace=False)\n",
    "    for x in choices:\n",
    "        test_idx_set.add(int(x))\n",
    "\n",
    "test_idx_list = sorted(test_idx_set)\n",
    "X_test = [texts[i] for i in test_idx_list]\n",
    "y_test = labels_all[test_idx_list]  # shape = (700, 4)\n",
    "\n",
    "# --------------------------------------------\n",
    "# 3. Load the saved best_model from disk\n",
    "# --------------------------------------------\n",
    "MODEL_PATH = Path(r\"C:\\Users\\Gleb\\Desktop\\N.L.P\\best_model.pth\")\n",
    "set_tokenizer(AutoTokenizer.from_pretrained(\"bert-base-multilingual-cased\"))\n",
    "loaded_model = CourseSentimentModel(\"bert-base-multilingual-cased\", num_labels_per_task=4).to(torch.device(\"cuda\"))\n",
    "loaded_model.load_state_dict(torch.load(MODEL_PATH, map_location=\"cuda\"))\n",
    "loaded_model.eval()\n",
    "best_model = loaded_model\n",
    "\n",
    "# --------------------------------------------\n",
    "# 4. Run predictions on Test set to get y_pred\n",
    "# --------------------------------------------\n",
    "# Assume BEST_BATCH_SIZE is known (e.g., 16)\n",
    "BEST_BATCH_SIZE = 16\n",
    "\n",
    "test_ds = CourseDataset(X_test, y_test.tolist())\n",
    "test_loader = DataLoader(\n",
    "    test_ds,\n",
    "    batch_size=BEST_BATCH_SIZE,\n",
    "    shuffle=False,\n",
    "    pin_memory=True,\n",
    "    num_workers=0\n",
    ")\n",
    "\n",
    "all_preds = []\n",
    "with torch.no_grad():\n",
    "    for batch in test_loader:\n",
    "        ids = batch['input_ids'].to(\"cuda\")\n",
    "        mask = batch['attention_mask'].to(\"cuda\")\n",
    "        logits = best_model(ids, mask)\n",
    "        preds_batch = torch.stack([torch.argmax(head_logits, dim=1) for head_logits in logits], dim=1)\n",
    "        all_preds.append(preds_batch.cpu().numpy())\n",
    "y_pred = np.vstack(all_preds)  # shape = (700, 4)\n",
    "\n",
    "# --------------------------------------------\n",
    "# 5. Plot a confusion matrix for each label\n",
    "# --------------------------------------------\n",
    "num_classes = [0, 1, 2, 3]\n",
    "\n",
    "for i, lab in enumerate(labels_cols):\n",
    "    cm = confusion_matrix(y_test[:, i], y_pred[:, i], labels=num_classes)\n",
    "\n",
    "    plt.figure(figsize=(3.5, 3.5))\n",
    "    plt.imshow(cm, interpolation='nearest', cmap='Blues')\n",
    "    plt.title(f\"Confusion Matrix for '{lab}'\")\n",
    "    plt.colorbar()\n",
    "    tick_marks = np.arange(len(num_classes))\n",
    "    plt.xticks(tick_marks, num_classes)\n",
    "    plt.yticks(tick_marks, num_classes)\n",
    "\n",
    "    thresh = cm.max() / 2\n",
    "    for row in range(cm.shape[0]):\n",
    "        for col in range(cm.shape[1]):\n",
    "            plt.text(\n",
    "                col, row, format(cm[row, col], 'd'),\n",
    "                ha='center', va='center',\n",
    "                color='white' if cm[row, col] > thresh else 'black'\n",
    "            )\n",
    "\n",
    "    plt.xlabel(\"Predicted label\")\n",
    "    plt.ylabel(\"True label\")\n",
    "    plt.tight_layout()\n",
    "    plt.show()"
   ]
  },
  {
   "cell_type": "code",
   "execution_count": null,
   "id": "f5b48f72",
   "metadata": {},
   "outputs": [],
   "source": []
  },
  {
   "cell_type": "code",
   "execution_count": null,
   "id": "c54dbc7f",
   "metadata": {},
   "outputs": [],
   "source": []
  },
  {
   "cell_type": "code",
   "execution_count": null,
   "id": "6bf743d6",
   "metadata": {},
   "outputs": [],
   "source": []
  },
  {
   "cell_type": "code",
   "execution_count": null,
   "id": "38c7120e",
   "metadata": {},
   "outputs": [],
   "source": []
  },
  {
   "cell_type": "code",
   "execution_count": 16,
   "id": "5ae71624",
   "metadata": {},
   "outputs": [
    {
     "data": {
      "image/png": "[encoded data removed]",
      "text/plain": [
       "<Figure size 1000x500 with 1 Axes>"
      ]
     },
     "metadata": {},
     "output_type": "display_data"
    }
   ],
   "source": [
    "# =========================================\n",
    "# Exact-Match Accuracy vs. Sentence Length\n",
    "# =========================================\n",
    "\n",
    "import numpy as np\n",
    "import matplotlib.pyplot as plt\n",
    "\n",
    "# --------------------------------------------\n",
    "# Exact-Match Accuracy vs. Sentence Length\n",
    "# --------------------------------------------\n",
    "\n",
    "# Prerequisites (should already be in memory):\n",
    "#   - X_test: List[str] of test sentences\n",
    "#   - y_test: numpy array of shape (n_test, 4), true labels\n",
    "#   - y_pred: numpy array of shape (n_test, 4), model predictions\n",
    "\n",
    "# 1. Compute sentence lengths (in words)\n",
    "lengths = np.array([len(text.split()) for text in X_test])  # array shape (n_test,)\n",
    "\n",
    "# 2. Compute exact-match indicator per example (1 if all 4 labels match, else 0)\n",
    "exact_matches = np.all(y_test == y_pred, axis=1).astype(int)  # array of 0/1\n",
    "\n",
    "# 3. Aggregate by length: for each unique length, compute mean exact-match accuracy\n",
    "unique_lengths = np.unique(lengths)\n",
    "accuracy_by_length = [exact_matches[lengths == L].mean() for L in unique_lengths]\n",
    "\n",
    "# 4. Plot\n",
    "plt.figure(figsize=(10, 5))\n",
    "plt.plot(unique_lengths, accuracy_by_length, marker='o', linestyle='-')\n",
    "plt.xlabel(\"Sentence Length (words)\")\n",
    "plt.ylabel(\"Exact-Match Accuracy\")\n",
    "plt.title(\"Bert Exact-Match Accuracy vs. Sentence Length\")\n",
    "plt.grid(True)\n",
    "\n",
    "# 5. Set x-axis ticks in steps of 2\n",
    "max_len = unique_lengths.max()\n",
    "plt.xticks(np.arange(0, max_len + 1, 2))\n",
    "\n",
    "plt.tight_layout()\n",
    "plt.show()\n"
   ]
  }
 ],
 "metadata": {
  "kernelspec": {
   "display_name": "Python 3.11 (py311)",
   "language": "python",
   "name": "py311"
  },
  "language_info": {
   "codemirror_mode": {
    "name": "ipython",
    "version": 3
   },
   "file_extension": ".py",
   "mimetype": "text/x-python",
   "name": "python",
   "nbconvert_exporter": "python",
   "pygments_lexer": "ipython3",
   "version": "3.11.11"
  }
 },
 "nbformat": 4,
 "nbformat_minor": 5
}
